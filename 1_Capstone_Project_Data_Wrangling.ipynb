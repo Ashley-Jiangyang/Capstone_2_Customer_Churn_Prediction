{
 "cells": [
  {
   "cell_type": "markdown",
   "metadata": {},
   "source": [
    "# Capstone Project - Customer Churn Prediction: Data Wrangling\n",
    "- Data Wrangling of Telco Customer Dataset"
   ]
  },
  {
   "cell_type": "markdown",
   "metadata": {},
   "source": [
    "### Table of Contents\n",
    "1. [Introduction](#in) <br>\n",
    "2. [Data Overview](#do) <br>\n",
    "3. [Data Management](#dm) <br>\n",
    "4. [Data Description](#dd) <br>"
   ]
  },
  {
   "cell_type": "markdown",
   "metadata": {},
   "source": [
    "# Introduction\n",
    "<a id=\"in\"> </a>\n",
    "\n",
    "This IBM sample dataset is acquired from Kaggle: [Telco Customer Churn - Focused customer retention programs](#https://www.kaggle.com/blastchar/telco-customer-churn). The goal of this project is to analyze all relevant customer data and develop focused customer retention programs and predict behavior to retain customers.\n",
    "\n",
    "Each row of the dataset represents a customer, each column contains customer’s attributes described on the column Metadata. The detailed info is described below,\n",
    "\n",
    "- Customers who left within the last month – the column is called Churn\n",
    "- Services that each customer has signed up for – phone, multiple lines, internet, online security, online backup, device protection, tech support, and streaming TV and movies\n",
    "- Customer account information – how long they’ve been a customer, contract, payment method, paperless billing, monthly charges, and total charges\n",
    "- Demographic info about customers – gender, age range, and if they have partners and dependents\n",
    "\n",
    "We will walk through the data cleaning in the data wrangling section."
   ]
  },
  {
   "cell_type": "code",
   "execution_count": 1,
   "metadata": {},
   "outputs": [],
   "source": [
    "# Import packages\n",
    "import pandas as pd\n",
    "import numpy as np\n",
    "import pandas_profiling as pf \n",
    "from datetime import datetime\n",
    "import matplotlib.pyplot as plt\n",
    "%matplotlib inline\n",
    "import seaborn as sns   \n",
    "import missingno as msno\n",
    "from collections import Counter"
   ]
  },
  {
   "cell_type": "code",
   "execution_count": 2,
   "metadata": {},
   "outputs": [],
   "source": [
    "# Load the data\n",
    "telco = pd.read_csv(\"WA_Fn-UseC_-Telco-Customer-Churn.csv\") "
   ]
  },
  {
   "cell_type": "markdown",
   "metadata": {},
   "source": [
    "# Data Overview\n",
    "<a id=\"do\"> </a>"
   ]
  },
  {
   "cell_type": "code",
   "execution_count": 3,
   "metadata": {},
   "outputs": [],
   "source": [
    "def data_summary(data):\n",
    "    \"\"\"This is a function returns the basic summary of the dataset\n",
    "    \"\"\"\n",
    "    print(\"__Data Source Summary__ \\n\")\n",
    "    print(\"Rows: {}\".format(data.shape[0]))\n",
    "    print(\"Columns:{}\\n\".format(data.shape[1]))\n",
    "    print(\"Features:{}\\n\".format(data.columns.tolist()))\n",
    "    \n",
    "    data.replace(\" \", np.nan, inplace = True)\n",
    "    print(\"Total Missing Value: {}\\n\".format(data.isnull().sum().values.sum()))\n",
    "    print(\"Missing Value by Features: \\n{}\".format(data.isnull().sum()[data.isnull().sum()>0]))\n",
    "    print(\"Percentage: {:.2f}%\\n\".format(telco.isnull().sum()[telco.isnull().sum()>0].values[0]/telco.shape[0]*100))\n",
    "    \n",
    "    print(\"Unique Value: \\n{}\".format(data.nunique()))\n",
    "      "
   ]
  },
  {
   "cell_type": "code",
   "execution_count": 4,
   "metadata": {},
   "outputs": [
    {
     "name": "stdout",
     "output_type": "stream",
     "text": [
      "__Data Source Summary__ \n",
      "\n",
      "Rows: 7043\n",
      "Columns:21\n",
      "\n",
      "Features:['customerID', 'gender', 'SeniorCitizen', 'Partner', 'Dependents', 'tenure', 'PhoneService', 'MultipleLines', 'InternetService', 'OnlineSecurity', 'OnlineBackup', 'DeviceProtection', 'TechSupport', 'StreamingTV', 'StreamingMovies', 'Contract', 'PaperlessBilling', 'PaymentMethod', 'MonthlyCharges', 'TotalCharges', 'Churn']\n",
      "\n",
      "Total Missing Value: 11\n",
      "\n",
      "Missing Value by Features: \n",
      "TotalCharges    11\n",
      "dtype: int64\n",
      "Percentage: 0.16%\n",
      "\n",
      "Unique Value: \n",
      "customerID          7043\n",
      "gender                 2\n",
      "SeniorCitizen          2\n",
      "Partner                2\n",
      "Dependents             2\n",
      "tenure                73\n",
      "PhoneService           2\n",
      "MultipleLines          3\n",
      "InternetService        3\n",
      "OnlineSecurity         3\n",
      "OnlineBackup           3\n",
      "DeviceProtection       3\n",
      "TechSupport            3\n",
      "StreamingTV            3\n",
      "StreamingMovies        3\n",
      "Contract               3\n",
      "PaperlessBilling       2\n",
      "PaymentMethod          4\n",
      "MonthlyCharges      1585\n",
      "TotalCharges        6530\n",
      "Churn                  2\n",
      "dtype: int64\n"
     ]
    }
   ],
   "source": [
    "data_summary(telco)"
   ]
  },
  {
   "cell_type": "markdown",
   "metadata": {},
   "source": [
    "# Data Management \n",
    "<a id=\"dm\"> </a>"
   ]
  },
  {
   "cell_type": "code",
   "execution_count": 5,
   "metadata": {},
   "outputs": [
    {
     "name": "stdout",
     "output_type": "stream",
     "text": [
      "Dropping customerID...\n"
     ]
    }
   ],
   "source": [
    "# drop missing values\n",
    "telco.dropna(subset = ['TotalCharges'], how = 'any', inplace = True)\n",
    "\n",
    "# reset the index\n",
    "telco.reset_index(drop= True, inplace = True)\n",
    "\n",
    "# drop the ID column\n",
    "def drop(data, feat):\n",
    "    \"\"\"\n",
    "    drop feature from data\n",
    "    \"\"\"\n",
    "    data = data.drop(feat, axis=1)\n",
    "    print('Dropping {}...'.format(feat))\n",
    "    return data\n",
    "\n",
    "telco = drop(telco, 'customerID')\n",
    "\n",
    "# recode the senior citizen features\n",
    "telco.SeniorCitizen = telco.SeniorCitizen.replace({1:\"Yes\", 0:\"No\" })\n",
    "\n",
    "\n",
    "# get all the category fetures\n",
    "cate_col = ['gender', 'SeniorCitizen', 'Partner', 'Dependents', 'PhoneService', 'MultipleLines', 'InternetService',\n",
    "            'OnlineSecurity', 'OnlineBackup', 'DeviceProtection', 'TechSupport', 'StreamingTV', \n",
    "            'StreamingMovies', 'Contract', 'PaperlessBilling', 'PaymentMethod', 'Churn']\n",
    "\n",
    "# get the numerical features\n",
    "nume_col = ['MonthlyCharges', 'TotalCharges']\n",
    "\n",
    "# Convert the objects into corresponding category\n",
    "for feat in telco.columns:\n",
    "    if feat in cate_col:\n",
    "        telco[feat] = telco[feat].astype('category')\n",
    "    if feat in nume_col:\n",
    "        telco[feat] = telco[feat].astype('float')        \n",
    "    \n"
   ]
  },
  {
   "cell_type": "markdown",
   "metadata": {},
   "source": [
    "# Data Description\n",
    "<a id=\"dd\"> </a>"
   ]
  },
  {
   "cell_type": "code",
   "execution_count": 6,
   "metadata": {},
   "outputs": [
    {
     "name": "stdout",
     "output_type": "stream",
     "text": [
      "<class 'pandas.core.frame.DataFrame'>\n",
      "RangeIndex: 7032 entries, 0 to 7031\n",
      "Data columns (total 20 columns):\n",
      " #   Column            Non-Null Count  Dtype   \n",
      "---  ------            --------------  -----   \n",
      " 0   gender            7032 non-null   category\n",
      " 1   SeniorCitizen     7032 non-null   category\n",
      " 2   Partner           7032 non-null   category\n",
      " 3   Dependents        7032 non-null   category\n",
      " 4   tenure            7032 non-null   int64   \n",
      " 5   PhoneService      7032 non-null   category\n",
      " 6   MultipleLines     7032 non-null   category\n",
      " 7   InternetService   7032 non-null   category\n",
      " 8   OnlineSecurity    7032 non-null   category\n",
      " 9   OnlineBackup      7032 non-null   category\n",
      " 10  DeviceProtection  7032 non-null   category\n",
      " 11  TechSupport       7032 non-null   category\n",
      " 12  StreamingTV       7032 non-null   category\n",
      " 13  StreamingMovies   7032 non-null   category\n",
      " 14  Contract          7032 non-null   category\n",
      " 15  PaperlessBilling  7032 non-null   category\n",
      " 16  PaymentMethod     7032 non-null   category\n",
      " 17  MonthlyCharges    7032 non-null   float64 \n",
      " 18  TotalCharges      7032 non-null   float64 \n",
      " 19  Churn             7032 non-null   category\n",
      "dtypes: category(17), float64(2), int64(1)\n",
      "memory usage: 283.4 KB\n"
     ]
    }
   ],
   "source": [
    "# post check the data type\n",
    "telco.info()"
   ]
  },
  {
   "cell_type": "code",
   "execution_count": 7,
   "metadata": {},
   "outputs": [
    {
     "name": "stdout",
     "output_type": "stream",
     "text": [
      "\u001b[1mCategorical Features Description                  \u001b[0m \n",
      "\n",
      "---- gender --- \n",
      "Male      0.504693\n",
      "Female    0.495307\n",
      "Name: gender, dtype: float64\n",
      "\n",
      "---- SeniorCitizen --- \n",
      "No     0.8376\n",
      "Yes    0.1624\n",
      "Name: SeniorCitizen, dtype: float64\n",
      "\n",
      "---- Partner --- \n",
      "No     0.517491\n",
      "Yes    0.482509\n",
      "Name: Partner, dtype: float64\n",
      "\n",
      "---- Dependents --- \n",
      "No     0.701507\n",
      "Yes    0.298493\n",
      "Name: Dependents, dtype: float64\n",
      "\n",
      "---- PhoneService --- \n",
      "Yes    0.903299\n",
      "No     0.096701\n",
      "Name: PhoneService, dtype: float64\n",
      "\n",
      "---- MultipleLines --- \n",
      "No                  0.481371\n",
      "Yes                 0.421928\n",
      "No phone service    0.096701\n",
      "Name: MultipleLines, dtype: float64\n",
      "\n",
      "---- InternetService --- \n",
      "Fiber optic    0.440273\n",
      "DSL            0.343572\n",
      "No             0.216155\n",
      "Name: InternetService, dtype: float64\n",
      "\n",
      "---- OnlineSecurity --- \n",
      "No                     0.497298\n",
      "Yes                    0.286547\n",
      "No internet service    0.216155\n",
      "Name: OnlineSecurity, dtype: float64\n",
      "\n",
      "---- OnlineBackup --- \n",
      "No                     0.438993\n",
      "Yes                    0.344852\n",
      "No internet service    0.216155\n",
      "Name: OnlineBackup, dtype: float64\n",
      "\n",
      "---- DeviceProtection --- \n",
      "No                     0.439989\n",
      "Yes                    0.343857\n",
      "No internet service    0.216155\n",
      "Name: DeviceProtection, dtype: float64\n",
      "\n",
      "---- TechSupport --- \n",
      "No                     0.493743\n",
      "Yes                    0.290102\n",
      "No internet service    0.216155\n",
      "Name: TechSupport, dtype: float64\n",
      "\n",
      "---- StreamingTV --- \n",
      "No                     0.399460\n",
      "Yes                    0.384386\n",
      "No internet service    0.216155\n",
      "Name: StreamingTV, dtype: float64\n",
      "\n",
      "---- StreamingMovies --- \n",
      "No                     0.395478\n",
      "Yes                    0.388367\n",
      "No internet service    0.216155\n",
      "Name: StreamingMovies, dtype: float64\n",
      "\n",
      "---- Contract --- \n",
      "Month-to-month    0.551052\n",
      "Two year          0.239619\n",
      "One year          0.209329\n",
      "Name: Contract, dtype: float64\n",
      "\n",
      "---- PaperlessBilling --- \n",
      "Yes    0.592719\n",
      "No     0.407281\n",
      "Name: PaperlessBilling, dtype: float64\n",
      "\n",
      "---- PaymentMethod --- \n",
      "Electronic check             0.336320\n",
      "Mailed check                 0.228100\n",
      "Bank transfer (automatic)    0.219283\n",
      "Credit card (automatic)      0.216297\n",
      "Name: PaymentMethod, dtype: float64\n",
      "\n",
      "---- Churn --- \n",
      "No     0.734215\n",
      "Yes    0.265785\n",
      "Name: Churn, dtype: float64\n",
      "\n",
      "\u001b[1mNumerical Features Description                    \u001b[0m \n",
      "\n",
      "---- tenure --- \n",
      "count    7032.000000\n",
      "mean       32.421786\n",
      "std        24.545260\n",
      "min         1.000000\n",
      "25%         9.000000\n",
      "50%        29.000000\n",
      "75%        55.000000\n",
      "max        72.000000\n",
      "Name: tenure, dtype: float64\n",
      "\n",
      "---- MonthlyCharges --- \n",
      "count    7032.000000\n",
      "mean       64.798208\n",
      "std        30.085974\n",
      "min        18.250000\n",
      "25%        35.587500\n",
      "50%        70.350000\n",
      "75%        89.862500\n",
      "max       118.750000\n",
      "Name: MonthlyCharges, dtype: float64\n",
      "\n",
      "---- TotalCharges --- \n",
      "count    7032.000000\n",
      "mean     2283.300441\n",
      "std      2266.771362\n",
      "min        18.800000\n",
      "25%       401.450000\n",
      "50%      1397.475000\n",
      "75%      3794.737500\n",
      "max      8684.800000\n",
      "Name: TotalCharges, dtype: float64\n",
      "\n"
     ]
    }
   ],
   "source": [
    "# print categorical featrues summary\n",
    "print ('\\033[1m{:50s}\\033[0m \\n'.format(\"Categorical Features Description\"))\n",
    "for c in telco.columns:\n",
    "    if c in cate_col:\n",
    "        print (\"---- %s ---\" % c, \"\\n{}\\n\".format(telco[c].value_counts(normalize=True)))\n",
    "\n",
    "# print numerical featrues summary\n",
    "print ('\\033[1m{:50s}\\033[0m \\n'.format(\"Numerical Features Description\"))\n",
    "for c in telco.columns:\n",
    "    if c not in cate_col:\n",
    "        print (\"---- %s ---\" % c, \"\\n{}\\n\".format(telco[c].describe()))    "
   ]
  },
  {
   "cell_type": "markdown",
   "metadata": {},
   "source": [
    "## Code Book"
   ]
  },
  {
   "cell_type": "markdown",
   "metadata": {},
   "source": [
    "We organize the features info into the code book described below,\n",
    "\n",
    "__CODE BOOK__\n",
    "\n",
    "\n",
    "__Feature__      |__Type__|__Counts__|__Missing Value__|__Statistical Summary__|__Info Area__|__Description__| \n",
    ":-------------|:------|:------:|:------------:|:--------|:----|:-----------------------------------------|\n",
    "Gender  |Category|7,032   |0% |Male: 54%<br>Female: 50%|Customer Demographic| Whether the customer is a male or a female| \n",
    "Senior Citizen |Category|7,032   |0% |Yes: 16%<br>No: 84%| Customer Demographic| Whether the customer is a senior citizen or not| \n",
    "Partner  |Category|7,032   |0% |Yes: 48%<br>No: 52%| Customer Demographic| Whether the customer has a partner or not|\n",
    "Dependents|Category|7,032   |0% |Yes: 30%<br>No: 70%| Customer Demographic| Whether the customer has dependents or not|\n",
    "Partner  |Category|7,032   |0% |Yes: 48%<br>No: 52%| Customer Demographic| Whether the customer has a partner or not|\n",
    "Tenure|Numeric|7,032   |0% |Yes: 30%<br>No: 70%| Customer Account Information| Number of months the customer has stayed with the company|\n",
    "Contract|Category|7,032   |0% |Month-to-month: 55%<br>One year: 21%<br>Two year: 24%| Customer Account Information| The contract term of the customer|\n",
    "Paperless Billing|Category|7,032   |0% |Yes: 59%<br>No: 41%| Customer Account Information| Whether the customer has paperless billing or not|\n",
    "Payment Method |Category|7,032   |0% |Electronic check: 33%<br>Mailed check: 23%<br>Bank transfer (automatic): 22%<br>Credit card (automatic): 21%| Customer Account Information| The customer’s payment method|\n",
    "Monthly Charges|Numeric|7,032   |0% |Min: 18<br>25%:  36<br>50%: 70<br>75%: 90<br>Max: 119<br>Mean: 65|Customer account information|The amount charged to the customer monthly|\n",
    "Total Charges |Numeric|7,032   |0% |Min: 19<br>25%:  401<br>50%: 1397<br>75%: 3994<br>Max: 8648<br>Mean: 2283|Customer account information| The total amount charged to the customer| \n",
    "Phone Service|Category|7,032   |0% |Yes: 90%<br>No: 10%| Customer Services| Whether the customer has a phone service or not|\n",
    "Multiple Lines|Category|7,032   |0% |Yes: 42%<br>No: 48%<br>No phone service: 1%| Customer Services| Whether the customer has multiple lines or not |\n",
    "Internet Service|Category|7,032   |0% |Fiber optic: 44%<br>DSL: 34%<br>No: 22%| Customer Services| Customer’s internet service provider |\n",
    "Online Security|Category|7,032   |0% |Yes: 28%<br>No: 50%<br>No internet service: 22%| Customer Services| Whether the customer has online security or not|\n",
    "Online Backup|Category|7,032   |0% |Yes: 34%<br>No: 44%<br>No internet service: 22%| Customer Services| Whether the customer has online backup or not|\n",
    "Device Protection|Category|7,032   |0% |Yes: 34%<br>No: 44%<br>No internet service: 22% | Customer Services| Whether the customer has device protection or not|\n",
    "Tech Support|Category|7,032   |0% |Yes: 29%<br>No: 49%<br>No internet service: 22% | Customer Services| Whether the customer has tech support or not|\n",
    "Streaming TV|Category|7,032   |0% |Yes: 38%<br>No: 40%<br>No internet service: 22% | Customer Services| Whether the customer has streaming TV or not |\n",
    "Streaming Movies|Category|7,032   |0% |Yes: 39%<br>No: 39%<br>No internet service: 22%| Customer Services| Whether the customer has streaming movies or not|"
   ]
  },
  {
   "cell_type": "code",
   "execution_count": 8,
   "metadata": {},
   "outputs": [],
   "source": [
    "# save the cleaned data\n",
    "telco.to_csv(\"telco_eda.csv\",index=False)"
   ]
  }
 ],
 "metadata": {
  "kernelspec": {
   "display_name": "Python 3",
   "language": "python",
   "name": "python3"
  },
  "language_info": {
   "codemirror_mode": {
    "name": "ipython",
    "version": 3
   },
   "file_extension": ".py",
   "mimetype": "text/x-python",
   "name": "python",
   "nbconvert_exporter": "python",
   "pygments_lexer": "ipython3",
   "version": "3.7.6"
  }
 },
 "nbformat": 4,
 "nbformat_minor": 4
}
